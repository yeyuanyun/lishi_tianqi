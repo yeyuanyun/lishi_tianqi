{
 "cells": [
  {
   "cell_type": "code",
   "execution_count": 1,
   "id": "27c6806e-5db3-40e1-8189-37c495f41e1b",
   "metadata": {},
   "outputs": [],
   "source": [
    "from selenium import webdriver\n",
    "from selenium.webdriver.support.ui import WebDriverWait, Select\n",
    "from selenium.webdriver.chrome.options import Options\n",
    "from selenium.webdriver.common.by import By\n",
    "import csv\n",
    "import time\n",
    "import random"
   ]
  },
  {
   "cell_type": "code",
   "execution_count": 2,
   "id": "51c911f5-9225-4a79-8ecc-5941519a7fdb",
   "metadata": {},
   "outputs": [],
   "source": [
    "chrome_options = Options()\n",
    "chrome_options.add_experimental_option('excludeSwitches', ['enable-automation'])\n",
    "chrome_options.add_argument('--disable-blink-features=AutomationControlled')\n",
    "chrome_options.add_argument('-incognito')\n",
    "\n",
    "chrome_options.add_argument('--headless')\n",
    "chrome_options.add_argument('--disable-gpu')\n",
    "\n",
    "browser = webdriver.Chrome(options = chrome_options)\n",
    "wait = WebDriverWait(browser, timeout=10)"
   ]
  },
  {
   "cell_type": "code",
   "execution_count": 3,
   "id": "172aeae4-210a-4bd4-9715-c5d5d9853889",
   "metadata": {},
   "outputs": [
    {
     "data": {
      "text/plain": [
       "True"
      ]
     },
     "execution_count": 3,
     "metadata": {},
     "output_type": "execute_result"
    }
   ],
   "source": [
    "wangzhan_url = 'https://tianqi.2345.com/wea_history/58606.htm'\n",
    "browser.get(wangzhan_url)\n",
    "wait.until(lambda d : 'weather-history' in d.page_source)"
   ]
  },
  {
   "cell_type": "code",
   "execution_count": 4,
   "id": "7b055266-130e-4e15-84b6-c853f225eb6e",
   "metadata": {},
   "outputs": [],
   "source": [
    "title = browser.find_element(By.XPATH, '//h1[@class=\"box-mod-th-title\"]').text\n",
    "filename = str(title) + '.csv'"
   ]
  },
  {
   "cell_type": "code",
   "execution_count": 5,
   "id": "92f70cc1-be4c-4b48-af75-ce7577cd3838",
   "metadata": {},
   "outputs": [],
   "source": [
    "with open(filename, 'w', encoding='utf-8', newline='') as w_f:\n",
    "    writer = csv.writer(w_f)\n",
    "    writer.writerow(['weather_date', 'highest_temp', 'lowset_temp', 'weather', 'wind_direction', 'air_quality'])\n",
    "\n",
    "def save_to_csv(result_list):\n",
    "    with open(filename, 'a', encoding='utf-8', newline='') as w_f:\n",
    "        writer = csv.writer(w_f)\n",
    "        for rowData in result_list:\n",
    "            writer.writerow(rowData)"
   ]
  },
  {
   "cell_type": "code",
   "execution_count": 6,
   "id": "a596a9ef-295b-49a3-9240-ebabd8d62d07",
   "metadata": {},
   "outputs": [],
   "source": [
    "year_select = browser.find_element(By.XPATH, '//a[@dataval=\"2016\"]')\n",
    "browser.execute_script('arguments[0].click();', year_select)\n",
    "time.sleep(1)\n",
    "month_select = browser.find_element(By.XPATH, '//a[@dataval=\"1\"]')\n",
    "browser.execute_script('arguments[0].click();', month_select)"
   ]
  },
  {
   "cell_type": "code",
   "execution_count": 7,
   "id": "59ebb9ce-a99f-48e2-b065-a77f3c443e07",
   "metadata": {},
   "outputs": [],
   "source": [
    "def weather_spider():\n",
    "    time.sleep(0.2 + random.random())\n",
    "    wait.until(lambda d : 'select-mod mt13' in d.page_source)\n",
    "    # wait.until(lambda d : 'weather-history' in d.page_source)\n",
    "    # wait.until(lambda d : 'history-aqi' in d.page_source)\n",
    "    \n",
    "    year = browser.find_elements(By.XPATH, '//div[@class=\"select-mod mt13\"]/span')[0].text\n",
    "    month = browser.find_elements(By.XPATH, '//div[@class=\"select-mod mt13\"]/span')[1].text\n",
    "    year_month = year + month\n",
    "\n",
    "    weather_list_trs = browser.find_elements(By.XPATH, '//div[@id=\"weather-history\"]//tr')\n",
    "    # 第一项为标题 日期 温度等\n",
    "    weather_list = []\n",
    "    for tr in weather_list_trs[1:]:\n",
    "        day_weather = []\n",
    "        weather_date, higest_temp, lowset_temp, weather, wind_direction = tr.find_elements(By.XPATH, './td')[:5]\n",
    "        air_quality = tr.find_element(By.XPATH, './td/span').text\n",
    "        day_weather.extend((weather_date.text , higest_temp.text , lowset_temp.text , weather.text , wind_direction.text, air_quality))\n",
    "\n",
    "        weather_list.append(day_weather)\n",
    "    save_to_csv(weather_list)\n",
    "    print(f'{year_month}已经爬取完毕')"
   ]
  },
  {
   "cell_type": "code",
   "execution_count": 8,
   "id": "a9c6f9ff-63db-43c3-9467-df831490ce53",
   "metadata": {},
   "outputs": [
    {
     "name": "stdout",
     "output_type": "stream",
     "text": [
      "2016年1月已经爬取完毕\n",
      "2016年2月已经爬取完毕\n",
      "2016年3月已经爬取完毕\n",
      "2016年4月已经爬取完毕\n",
      "2016年5月已经爬取完毕\n",
      "2016年6月已经爬取完毕\n",
      "2016年7月已经爬取完毕\n",
      "2016年8月已经爬取完毕\n",
      "2016年9月已经爬取完毕\n",
      "2016年10月已经爬取完毕\n",
      "2016年11月已经爬取完毕\n",
      "2016年12月已经爬取完毕\n",
      "2017年1月已经爬取完毕\n",
      "2017年2月已经爬取完毕\n",
      "2017年3月已经爬取完毕\n",
      "2017年4月已经爬取完毕\n",
      "2017年5月已经爬取完毕\n",
      "2017年6月已经爬取完毕\n",
      "2017年7月已经爬取完毕\n",
      "2017年8月已经爬取完毕\n",
      "2017年9月已经爬取完毕\n",
      "2017年10月已经爬取完毕\n",
      "2017年11月已经爬取完毕\n",
      "2017年12月已经爬取完毕\n",
      "2018年1月已经爬取完毕\n",
      "2018年2月已经爬取完毕\n",
      "2018年3月已经爬取完毕\n",
      "2018年4月已经爬取完毕\n",
      "2018年5月已经爬取完毕\n",
      "2018年6月已经爬取完毕\n",
      "2018年7月已经爬取完毕\n",
      "2018年8月已经爬取完毕\n",
      "2018年9月已经爬取完毕\n",
      "2018年10月已经爬取完毕\n",
      "2018年11月已经爬取完毕\n",
      "2018年12月已经爬取完毕\n",
      "2019年1月已经爬取完毕\n",
      "2019年2月已经爬取完毕\n",
      "2019年3月已经爬取完毕\n",
      "2019年4月已经爬取完毕\n",
      "2019年5月已经爬取完毕\n",
      "2019年6月已经爬取完毕\n",
      "2019年7月已经爬取完毕\n",
      "2019年8月已经爬取完毕\n",
      "2019年9月已经爬取完毕\n",
      "2019年10月已经爬取完毕\n",
      "2019年11月已经爬取完毕\n",
      "2019年12月已经爬取完毕\n",
      "2020年1月已经爬取完毕\n",
      "2020年2月已经爬取完毕\n",
      "2020年3月已经爬取完毕\n",
      "2020年4月已经爬取完毕\n",
      "2020年5月已经爬取完毕\n",
      "2020年6月已经爬取完毕\n",
      "2020年7月已经爬取完毕\n",
      "2020年8月已经爬取完毕\n",
      "2020年9月已经爬取完毕\n",
      "2020年10月已经爬取完毕\n",
      "2020年11月已经爬取完毕\n",
      "2020年12月已经爬取完毕\n",
      "2021年1月已经爬取完毕\n",
      "2021年2月已经爬取完毕\n",
      "2021年3月已经爬取完毕\n",
      "2021年4月已经爬取完毕\n",
      "2021年5月已经爬取完毕\n",
      "2021年6月已经爬取完毕\n",
      "2021年7月已经爬取完毕\n",
      "2021年8月已经爬取完毕\n",
      "2021年9月已经爬取完毕\n",
      "2021年10月已经爬取完毕\n",
      "2021年11月已经爬取完毕\n",
      "2021年12月已经爬取完毕\n",
      "2022年1月已经爬取完毕\n",
      "2022年2月已经爬取完毕\n",
      "2022年3月已经爬取完毕\n",
      "2022年4月已经爬取完毕\n",
      "2022年5月已经爬取完毕\n",
      "2022年6月已经爬取完毕\n",
      "2022年7月已经爬取完毕\n",
      "2022年8月已经爬取完毕\n",
      "2022年9月已经爬取完毕\n",
      "2022年10月已经爬取完毕\n",
      "2022年11月已经爬取完毕\n",
      "2022年12月已经爬取完毕\n",
      "2023年1月已经爬取完毕\n",
      "2023年2月已经爬取完毕\n",
      "2023年3月已经爬取完毕\n",
      "2023年4月已经爬取完毕\n",
      "2023年5月已经爬取完毕\n",
      "2023年6月已经爬取完毕\n",
      "2023年7月已经爬取完毕\n",
      "2023年8月已经爬取完毕\n",
      "2023年9月已经爬取完毕\n",
      "2023年10月已经爬取完毕\n",
      "2023年11月已经爬取完毕\n",
      "2023年12月已经爬取完毕\n",
      "2024年1月已经爬取完毕\n",
      "2024年2月已经爬取完毕\n",
      "2024年3月已经爬取完毕\n",
      "2024年4月已经爬取完毕\n",
      "2024年5月已经爬取完毕\n",
      "2024年6月已经爬取完毕\n",
      "2024年7月已经爬取完毕\n",
      "已经全部爬取完毕\n"
     ]
    }
   ],
   "source": [
    "flag = True\n",
    "while flag:\n",
    "    weather_spider()\n",
    "    \n",
    "    next_month_button = browser.find_element(By.ID, 'js_nextMonth')\n",
    "    if 'no-data-btn' not in next_month_button.get_attribute('class'):\n",
    "        browser.execute_script('arguments[0].click();', next_month_button)\n",
    "    else:\n",
    "        flag = False\n",
    "        print(\"已经全部爬取完毕\")"
   ]
  },
  {
   "cell_type": "code",
   "execution_count": null,
   "id": "117ea001-119e-4324-81a3-d07f11744d67",
   "metadata": {},
   "outputs": [],
   "source": []
  }
 ],
 "metadata": {
  "kernelspec": {
   "display_name": "Python 3 (ipykernel)",
   "language": "python",
   "name": "python3"
  },
  "language_info": {
   "codemirror_mode": {
    "name": "ipython",
    "version": 3
   },
   "file_extension": ".py",
   "mimetype": "text/x-python",
   "name": "python",
   "nbconvert_exporter": "python",
   "pygments_lexer": "ipython3",
   "version": "3.9.7"
  }
 },
 "nbformat": 4,
 "nbformat_minor": 5
}
